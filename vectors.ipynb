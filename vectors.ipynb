{
 "cells": [
  {
   "cell_type": "code",
   "execution_count": 1,
   "metadata": {},
   "outputs": [
    {
     "name": "stdout",
     "output_type": "stream",
     "text": [
      "hello\n"
     ]
    }
   ],
   "source": [
    "print('hello')"
   ]
  },
  {
   "cell_type": "code",
   "execution_count": 5,
   "metadata": {},
   "outputs": [],
   "source": [
    "import numpy as np\n",
    "import matplotlib.pyplot"
   ]
  },
  {
   "cell_type": "code",
   "execution_count": 6,
   "metadata": {},
   "outputs": [
    {
     "name": "stdout",
     "output_type": "stream",
     "text": [
      "[2 5 4 7] [[2]\n",
      " [5]\n",
      " [4]\n",
      " [7]] [2 5 4 7]\n"
     ]
    }
   ],
   "source": [
    "v2= np.array([2,5,4,7])\n",
    "v3= np.array([[2],[5],[4],[7]])\n",
    "v4 = v2.T\n",
    "print(v2,v3,v4)"
   ]
  },
  {
   "cell_type": "code",
   "execution_count": 10,
   "metadata": {},
   "outputs": [
    {
     "data": {
      "text/plain": [
       "array([ 0, 18, 16, 24])"
      ]
     },
     "execution_count": 10,
     "metadata": {},
     "output_type": "execute_result"
    }
   ],
   "source": [
    "v2= np.array([2,5,4,7])\n",
    "v3 =np.array([4,1,0,2])\n",
    "\n",
    "v1= 4*v2 - 2*v3\n",
    "v1"
   ]
  },
  {
   "cell_type": "code",
   "execution_count": 17,
   "metadata": {},
   "outputs": [
    {
     "name": "stdout",
     "output_type": "stream",
     "text": [
      "27\n"
     ]
    },
    {
     "data": {
      "text/plain": [
       "array([[ 8,  2,  0,  4],\n",
       "       [20,  5,  0, 10],\n",
       "       [16,  4,  0,  8],\n",
       "       [28,  7,  0, 14]])"
      ]
     },
     "execution_count": 17,
     "metadata": {},
     "output_type": "execute_result"
    }
   ],
   "source": [
    "v2= np.array([2,5,4,7])\n",
    "v3 =np.array([4,1,0,2])\n",
    "\n",
    "dp = np.dot(v2,v3)\n",
    "op = np.outer(v2,v3)\n",
    "print(dp)\n",
    "print(op)\n",
    " \n",
    "v4= v2 * v3"
   ]
  },
  {
   "cell_type": "code",
   "execution_count": 15,
   "metadata": {},
   "outputs": [
    {
     "data": {
      "text/plain": [
       "array([ -7,  -4, -13])"
      ]
     },
     "execution_count": 15,
     "metadata": {},
     "output_type": "execute_result"
    }
   ],
   "source": [
    "l1=1\n",
    "l2=2\n",
    "l3=-3\n",
    "\n",
    "v1= np.array([4,5,1])\n",
    "v2= np.array([-4,0,-4])\n",
    "v3= np.array([1,3,2])\n",
    "\n",
    "l1*v1 +l2*v2 +l3*v3"
   ]
  },
  {
   "cell_type": "code",
   "execution_count": 19,
   "metadata": {},
   "outputs": [
    {
     "data": {
      "text/plain": [
       "array([0.20628425, 0.51571062, 0.4125685 , 0.72199487])"
      ]
     },
     "execution_count": 19,
     "metadata": {},
     "output_type": "execute_result"
    }
   ],
   "source": [
    "v2= np.array([2,5,4,7])\n",
    "\n",
    "vmag = np.linalg.norm(v2)\n",
    "\n",
    "vunit= v2 / vmag\n",
    "vunit"
   ]
  },
  {
   "cell_type": "code",
   "execution_count": null,
   "metadata": {},
   "outputs": [],
   "source": []
  }
 ],
 "metadata": {
  "kernelspec": {
   "display_name": "Python 3",
   "language": "python",
   "name": "python3"
  },
  "language_info": {
   "codemirror_mode": {
    "name": "ipython",
    "version": 3
   },
   "file_extension": ".py",
   "mimetype": "text/x-python",
   "name": "python",
   "nbconvert_exporter": "python",
   "pygments_lexer": "ipython3",
   "version": "3.12.1"
  }
 },
 "nbformat": 4,
 "nbformat_minor": 2
}
